{
 "cells": [
  {
   "cell_type": "code",
   "execution_count": 1,
   "id": "e22699a5-1f8a-42ac-a046-bf52e111f196",
   "metadata": {},
   "outputs": [],
   "source": [
    "import numpy as np\n",
    "import pandas as pd\n",
    "import matplotlib.pyplot as plt"
   ]
  },
  {
   "cell_type": "code",
   "execution_count": 2,
   "id": "b4f85020-3df6-48ea-a87c-cf94fea1fdf6",
   "metadata": {},
   "outputs": [],
   "source": [
    "#import train and test files\n",
    "path_test = \"C:\\\\CSE\\\\Linear Reg\\\\Test.csv\"\n",
    "path_train = \"C:\\\\CSE\\\\Linear Reg\\\\Train.csv\"\n",
    "train_file = pd.read_csv(f\"{path_train}\")\n",
    "test_file = pd.read_csv(f\"{path_test}\")\n",
    "# Drop unnecessary columns (first pass)\n",
    "train_file = train_file.drop(columns=[\"Unnamed: 0\"], errors=\"ignore\")\n",
    "test_file = test_file.drop(columns=[\"Unnamed: 0\"], errors=\"ignore\")"
   ]
  },
  {
   "cell_type": "markdown",
   "id": "13b4265c-5012-40c7-bdfb-cefec2af3155",
   "metadata": {},
   "source": [
    "Extract the numeric values from columns (integer values)"
   ]
  },
  {
   "cell_type": "code",
   "execution_count": 3,
   "id": "6c027f0b-3c30-4bfa-a45c-a314699162e1",
   "metadata": {},
   "outputs": [],
   "source": [
    "# Extract numeric parts from strings for columns with mixed data types\n",
    "train_file[\"Mileage\"] = train_file[\"Mileage\"].str.extract(r\"([\\d\\.]+)\").astype(float)\n",
    "train_file[\"Engine\"] = train_file[\"Engine\"].str.extract(r\"([\\d\\.]+)\").astype(float)\n",
    "train_file[\"Power\"] = train_file[\"Power\"].str.extract(r\"([\\d\\.]+)\").astype(float)\n",
    "test_file[\"Mileage\"] = test_file[\"Mileage\"].str.extract(r\"([\\d\\.]+)\").astype(float)\n",
    "test_file[\"Engine\"] = test_file[\"Engine\"].str.extract(r\"([\\d\\.]+)\").astype(float)\n",
    "test_file[\"Power\"] = test_file[\"Power\"].str.extract(r\"([\\d\\.]+)\").astype(float)"
   ]
  },
  {
   "cell_type": "markdown",
   "id": "15acdefb-50ef-4d9a-b7ef-887ff1d549b4",
   "metadata": {},
   "source": [
    "Fill the empty cells with median value to keep its effect minimum"
   ]
  },
  {
   "cell_type": "code",
   "execution_count": 4,
   "id": "5a73b053-df80-405f-abf0-68b77288d446",
   "metadata": {},
   "outputs": [],
   "source": [
    "# Fill missing values with median for certain columns\n",
    "for col in [\"Mileage\", \"Engine\", \"Power\", \"Seats\"]:\n",
    "    if col in train_file.columns:\n",
    "        train_file[col] = train_file[col].fillna(train_file[col].median())\n",
    "        test_file[col] = test_file[col].fillna(test_file[col].median())\n"
   ]
  },
  {
   "cell_type": "markdown",
   "id": "df0fa75d-383c-41b6-8e88-ee59cb3606fc",
   "metadata": {},
   "source": [
    "Extract columns with numeric value to tabulate correlation table"
   ]
  },
  {
   "cell_type": "code",
   "execution_count": 5,
   "id": "993c4f8c-a4fb-4af6-b700-d3f5dbf4ad3b",
   "metadata": {},
   "outputs": [
    {
     "name": "stdout",
     "output_type": "stream",
     "text": [
      "                       Year  Kilometers_Driven   Mileage    Engine     Power  \\\n",
      "Year               1.000000          -0.426688  0.328636 -0.052797  0.028468   \n",
      "Kilometers_Driven -0.426688           1.000000 -0.140579  0.144822  0.001961   \n",
      "Mileage            0.328636          -0.140579  1.000000 -0.571010 -0.486953   \n",
      "Engine            -0.052797           0.144822 -0.571010  1.000000  0.859990   \n",
      "Power              0.028468           0.001961 -0.486953  0.859990  1.000000   \n",
      "Seats              0.021399           0.184737 -0.277417  0.384655  0.094171   \n",
      "Price              0.311836          -0.161540 -0.296908  0.648792  0.758480   \n",
      "\n",
      "                      Seats     Price  \n",
      "Year               0.021399  0.311836  \n",
      "Kilometers_Driven  0.184737 -0.161540  \n",
      "Mileage           -0.277417 -0.296908  \n",
      "Engine             0.384655  0.648792  \n",
      "Power              0.094171  0.758480  \n",
      "Seats              1.000000  0.053150  \n",
      "Price              0.053150  1.000000  \n"
     ]
    }
   ],
   "source": [
    "numeric_columns = train_file.select_dtypes(include=[np.number]).columns\n",
    "train_file_numeric = train_file[numeric_columns]\n",
    "\n",
    "# Calculate the correlation matrix\n",
    "correlation_matrix = train_file_numeric.corr()\n",
    "print(correlation_matrix)"
   ]
  },
  {
   "cell_type": "markdown",
   "id": "926d9aed-324e-4d1e-b38f-838eacab570a",
   "metadata": {},
   "source": [
    "Correlation Table\n",
    "here its seen Kilometers_Driven and Mileage have -ve correlation with price. It is better to not consider them as a feature input for training data.\n",
    "It can also be observed engine has high correlation with power. So engine can be dropped.\n",
    "the Categorical columns with n types of input can be branced into n-1 columns, with all 0 indicating nth condition.\n",
    "this is achieved using get_dummies\n",
    "the irrelevant columns are stored in string and excluded "
   ]
  },
  {
   "cell_type": "code",
   "execution_count": 6,
   "id": "7c024454-218d-4d5f-9e95-24cb85cfb1b7",
   "metadata": {},
   "outputs": [],
   "source": [
    "# Convert categorical columns to dummies\n",
    "cats = [\"Fuel_Type\", \"Transmission\", \"Owner_Type\", \"Location\"]\n",
    "train_file = pd.get_dummies(train_file, columns=cats, drop_first=True)\n",
    "test_file = pd.get_dummies(test_file, columns=cats, drop_first=True)\n",
    "\n",
    "# Define columns to exclude (exclude from test_file)\n",
    "columns_to_exclude = [\"Price\", \"Name\", \"Engine\", \"Seats\",\"Year\",\"Kilometers_Driven\"]\n",
    "\n",
    "columns = test_file.columns\n",
    "columns = [item for item in columns if item not in columns_to_exclude]"
   ]
  },
  {
   "cell_type": "code",
   "execution_count": 7,
   "id": "ba31796f-09d1-4a8b-86b5-f375468b9bf5",
   "metadata": {},
   "outputs": [
    {
     "name": "stdout",
     "output_type": "stream",
     "text": [
      "updated column names - \n",
      "\n",
      "y - \n",
      "Price\n",
      "\n",
      "x- \n",
      "['Mileage', 'Power', 'Fuel_Type_Electric', 'Fuel_Type_Petrol', 'Transmission_Manual', 'Owner_Type_Fourth & Above', 'Owner_Type_Second', 'Owner_Type_Third', 'Location_Bangalore', 'Location_Chennai', 'Location_Coimbatore', 'Location_Delhi', 'Location_Hyderabad', 'Location_Jaipur', 'Location_Kochi', 'Location_Kolkata', 'Location_Mumbai', 'Location_Pune']\n"
     ]
    }
   ],
   "source": [
    "# Define the target column\n",
    "y_columns = \"Price\"\n",
    "x_columns = columns\n",
    "\n",
    "print(\"updated column names - \")\n",
    "print(\"\\ny - \")\n",
    "print(y_columns)\n",
    "print(\"\\nx- \")\n",
    "print(x_columns)\n"
   ]
  },
  {
   "cell_type": "markdown",
   "id": "a18f16fc-57ff-4467-8847-17e5b44e25a7",
   "metadata": {},
   "source": [
    "features are stored in x_train as array of n dimension, where n is the number of feature\n",
    "    feat1   feat2 .......\n",
    "d1\n",
    "d2\n",
    ".\n",
    ".\n",
    ".\n",
    "ie for X[m][n] - there are m items with n features \n",
    "the values (relevant) of X (features) are extracted from file and stored in X_train\n",
    "same for y_train\n",
    "both are converted to datatype float to avoid loss of data and error further down the code"
   ]
  },
  {
   "cell_type": "code",
   "execution_count": 8,
   "id": "4247e9df-c4dc-4e95-85b6-520dc23df1d3",
   "metadata": {},
   "outputs": [],
   "source": [
    "x_train = train_file[x_columns].values        #store features as array of n dimension(n = number of feature)\n",
    "y_train = train_file[y_columns].values\n",
    "x_test = test_file[x_columns].values        \n",
    "y_test = test_file[y_columns].values\n",
    "m = x_train.shape[1]\n",
    "\n",
    "x_train = x_train.astype(float)\n",
    "y_train = y_train.astype(float)"
   ]
  },
  {
   "cell_type": "markdown",
   "id": "736a6c79-e0a6-440f-bbc6-99af8e8bc856",
   "metadata": {},
   "source": [
    "Scale down using Z-score \n",
    "Z = (X-mean)/standard_deviation\n",
    "scale down both train and test data for uniformity in plotting later."
   ]
  },
  {
   "cell_type": "code",
   "execution_count": 9,
   "id": "35612893-e9cb-4806-bc66-2445e37d8d7b",
   "metadata": {},
   "outputs": [],
   "source": [
    "for i in range(m):      #scale down(Z scale) (x-mean)/st.deviation\n",
    " x_train[:,i] = (x_train[:,i] - np.mean(x_train[:,i]))/np.std(x_train[:,i])\n",
    "m = x_test.shape[1]\n",
    "for i in range(m):\n",
    " x_test[:,i] = (x_test[:,i] - np.mean(x_test[:,i]))/np.std(x_test[:,i])\n",
    "n= len(y_train)        #scale down(Z scale) (y-mean)/st.deviation\n",
    "for i in range(n):\n",
    " y_train[i] = (y_train[i] - np.mean(y_train))/np.std(y_train)\n",
    " \n",
    " n= len(y_test)        #scale down(Z scale) (y-mean)/st.deviation\n",
    "for i in range(n):\n",
    " y_test[i] = (y_test[i] - np.mean(y_test))/np.std(y_test)\n",
    "\n",
    "#initialise  {initialise w to zero array with elements equal to number of features..ie. column}\n",
    "w = np.zeros(m)  #weights = no of features(no of columns in x_train)\n",
    "b = 0 #bias\n",
    "a = 0.001 #learing rate\n",
    "ite = 6000 "
   ]
  },
  {
   "cell_type": "markdown",
   "id": "4e17ae7b-cf40-4eb1-973b-d0237038598e",
   "metadata": {},
   "source": [
    "Linear function f = w*x + b (usind dot product)"
   ]
  },
  {
   "cell_type": "code",
   "execution_count": 10,
   "id": "9cb9f4aa-44a1-44e2-a7be-a72fcb747cde",
   "metadata": {},
   "outputs": [],
   "source": [
    "def function(w, b, x):\n",
    "    return np.dot(x, w) + b"
   ]
  },
  {
   "cell_type": "markdown",
   "id": "1861096f-df4c-468f-b16b-64609e4d2b9d",
   "metadata": {},
   "source": [
    "define Cost function for all the data(rows in x_train)"
   ]
  },
  {
   "cell_type": "code",
   "execution_count": 11,
   "id": "6c8f7c06-aa66-495f-8766-bb8227e3ba4b",
   "metadata": {},
   "outputs": [],
   "source": [
    "\n",
    "def cost_fun(w, b, x, y):  # Cost function\n",
    "    m = x.shape[0]  # Number of training examples(rows)\n",
    "    total_cost = 0\n",
    "    for i in range(m):\n",
    "        total_cost += (function(w, b, x[i]) - y[i])**2    # Squared error\n",
    "    return (1 / (2 * m)) * total_cost  # Average cost"
   ]
  },
  {
   "cell_type": "markdown",
   "id": "aee96791-e59d-43d1-97b5-10702cae490b",
   "metadata": {},
   "source": [
    "Define Gradient Descent function"
   ]
  },
  {
   "cell_type": "code",
   "execution_count": 12,
   "id": "4ffc6775-ab09-46a1-bc40-54d81a9c0303",
   "metadata": {},
   "outputs": [],
   "source": [
    "\n",
    "def gradient_descent(w, b, x, y, a, iteration):\n",
    "    m = x.shape[0] #no of training example (rows)\n",
    "    cost_history = []\n",
    "    w_history = []\n",
    "    \n",
    "    for j in range(iteration):\n",
    "        dj_dw = np.zeros_like(w)  # Initialize gradient for w\n",
    "        dj_db = 0  # Initialize gradient for b\n",
    "        \n",
    "        for i in range(m):\n",
    "            dj_dw +=(function(w, b, x[i]) - y[i]) * x[i]  \n",
    "            dj_db += function(w, b, x[i]) - y[i]  \n",
    "      \n",
    "        w = w - (1/m) * a * dj_dw\n",
    "        b = b - (1/m) * a * dj_db\n",
    "        \n",
    "        # Compute and save the cost for the current iteration\n",
    "        cost = cost_fun(w, b, x, y)\n",
    "        cost_history.append(cost)\n",
    "        w_history.append(w)\n",
    "    \n",
    "    return w, b, cost_history, w_history"
   ]
  },
  {
   "cell_type": "code",
   "execution_count": 13,
   "id": "341a5033-7e37-4794-9896-aee2ae5effaa",
   "metadata": {},
   "outputs": [],
   "source": [
    "# Run gradient descent aldorithm for ite no of iterations \n",
    "w, b, cost_history, w_history = gradient_descent(w, b, x_train, y_train, a, ite)"
   ]
  },
  {
   "cell_type": "markdown",
   "id": "046e3703-b702-4351-84f8-7615662a46d6",
   "metadata": {},
   "source": [
    "The linear model is predicted, with ideal values of weights and bias.\n",
    "The aim is to decrease the final cost function value for corresponding weights and bias"
   ]
  },
  {
   "cell_type": "code",
   "execution_count": 14,
   "id": "3fb5473e-829a-4c35-9df8-a2494c9ba672",
   "metadata": {},
   "outputs": [
    {
     "name": "stdout",
     "output_type": "stream",
     "text": [
      "\n",
      "OUTPUT\n",
      "\n",
      "Final value of w = [ 0.03011275  0.88745946  0.00396736 -0.17048587 -0.27322041 -0.01093137\n",
      " -0.12610993 -0.0875946   0.08669203 -0.01305511  0.13408252 -0.0515484\n",
      "  0.0355188  -0.00466554  0.08276344 -0.05592449 -0.03667154 -0.01349072], and b = 0.70688541594101 for a = 0.001\n",
      "Final value of cost function = 1.023642282286476\n"
     ]
    }
   ],
   "source": [
    "# Final output\n",
    "final_cost = cost_fun(w, b, x_train, y_train)\n",
    "print(\"\\nOUTPUT\\n\")\n",
    "print(f\"Final value of w = {w}, and b = {b} for a = {a}\")\n",
    "print(f\"Final value of cost function = {final_cost}\")"
   ]
  },
  {
   "cell_type": "markdown",
   "id": "306840f3-7d4d-4e7c-b361-880b634b06ff",
   "metadata": {},
   "source": [
    "Define a function to caliculate R square value to evaluate performance\n",
    "Rsquare = 1-(ssr/sst)"
   ]
  },
  {
   "cell_type": "code",
   "execution_count": 18,
   "id": "a806801a-3e2a-47dc-b3eb-d52075458ccf",
   "metadata": {},
   "outputs": [],
   "source": [
    "# Rsquare calculation\n",
    "def Rsquare(y,y_predict):\n",
    "    ssr = np.sum((y-y_predict)**2)\n",
    "    sst = np.sum((y - y.mean())**2)\n",
    "    return 1-(ssr/sst)"
   ]
  },
  {
   "cell_type": "code",
   "execution_count": 19,
   "id": "04507141-4726-4686-8b47-a002f21c4ed1",
   "metadata": {},
   "outputs": [
    {
     "name": "stdout",
     "output_type": "stream",
     "text": [
      "\n",
      "R square value for Train data  0.41063147553950197\n",
      "\n",
      "R square value for Test data 0.413743343010629\n"
     ]
    }
   ],
   "source": [
    "#compare with test.csv and train.csv using Rsquare value\n",
    "print(f\"\\nR square value for Train data  {Rsquare(y_train,function(w,b,x_train))}\")\n",
    "print(f\"\\nR square value for Test data {Rsquare(y_test,function(w,b,x_test))}\")"
   ]
  },
  {
   "cell_type": "markdown",
   "id": "1c2ab9e7-819e-410e-9082-24a4901cc95f",
   "metadata": {},
   "source": [
    "As we are plotting actual vs prediction we need a reference line x = y to visualize the performance of model"
   ]
  },
  {
   "cell_type": "code",
   "execution_count": 20,
   "id": "34ba8274-a56c-4bef-aef9-3f11e9ef52a9",
   "metadata": {},
   "outputs": [],
   "source": [
    "#create a reference x=y line\n",
    "y_min = min(min(y_train),min(function(w,b,x_train)))\n",
    "y_max= max(max(y_train),max(function(w,b,x_train)))\n",
    "y = np.linspace(y_min,y_max, 500)  # Create 500 points between min and max value\n",
    "x = y  # x is equal to y"
   ]
  },
  {
   "cell_type": "markdown",
   "id": "ff6cf780-0e04-485f-92ae-180003e1182e",
   "metadata": {},
   "source": [
    "Plot actual vs prediction with x = y to get better understanding of data"
   ]
  },
  {
   "cell_type": "code",
   "execution_count": 21,
   "id": "92aa00f7-a355-4a7d-aa4c-d90dca2f6bed",
   "metadata": {},
   "outputs": [
    {
     "data": {
      "image/png": "[encoded data removed]",
      "text/plain": [
       "<Figure size 640x480 with 1 Axes>"
      ]
     },
     "metadata": {},
     "output_type": "display_data"
    }
   ],
   "source": [
    "#plot actual vs prediction\n",
    "plt.plot(x, y, color=\"blue\",linestyle = \"--\", label=\"x=y\")\n",
    "plt.scatter(y_train,function(w,b,x_train), color='red', marker='x', s=1, label='Data Points')\n",
    "plt.xlabel(\"actual\")\n",
    "plt.ylabel(\"predicted\")\n",
    "plt.title(\"Prediction vs Actual\")\n",
    "plt.legend()\n",
    "plt.show()"
   ]
  }
 ],
 "metadata": {
  "kernelspec": {
   "display_name": "Python 3 (ipykernel)",
   "language": "python",
   "name": "python3"
  },
  "language_info": {
   "codemirror_mode": {
    "name": "ipython",
    "version": 3
   },
   "file_extension": ".py",
   "mimetype": "text/x-python",
   "name": "python",
   "nbconvert_exporter": "python",
   "pygments_lexer": "ipython3",
   "version": "3.13.1"
  }
 },
 "nbformat": 4,
 "nbformat_minor": 5
}
